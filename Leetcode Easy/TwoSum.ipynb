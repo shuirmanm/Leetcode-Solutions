{
  "nbformat": 4,
  "nbformat_minor": 0,
  "metadata": {
    "colab": {
      "name": "TwoSum.ipynb",
      "provenance": [],
      "collapsed_sections": []
    },
    "kernelspec": {
      "name": "python3",
      "display_name": "Python 3"
    },
    "language_info": {
      "name": "python"
    }
  },
  "cells": [
    {
      "cell_type": "markdown",
      "source": [
        "Given an array of integers nums and an integer target, return indices of the two numbers such that they add up to target.\n",
        "\n",
        "You may assume that each input would have exactly one solution, and you may not use the same element twice.\n",
        "\n",
        "You can return the answer in any order."
      ],
      "metadata": {
        "id": "yhVh7dJCIAMU"
      }
    },
    {
      "cell_type": "markdown",
      "source": [
        "Input: nums = [2,7,11,15], target = 9\n",
        "Output: [0,1]\n",
        "Explanation: Because nums[0] + nums[1] == 9, we return [0, 1]."
      ],
      "metadata": {
        "id": "DErRSigdII-y"
      }
    },
    {
      "cell_type": "code",
      "execution_count": null,
      "metadata": {
        "id": "VULQ0C8JB4FA"
      },
      "outputs": [],
      "source": [
        "#establishing test variables\n",
        "nums = [2,7,11,15]\n",
        "target = 9\n"
      ]
    },
    {
      "cell_type": "code",
      "source": [
        "#finding the solution\n",
        "pairLst = [[nums[x],nums[y]] for x in range(len(nums)-1) for y in range(x+1,len(nums)) if nums[x]+nums[y]==target][0]\n"
      ],
      "metadata": {
        "id": "Cko-veqbCNnc"
      },
      "execution_count": null,
      "outputs": []
    },
    {
      "cell_type": "code",
      "source": [
        "#if the answer is the same number twice, making sure we aren't delivering the index of the same number\n",
        "a = pairLst[0]\n",
        "b = pairLst[1]\n",
        "if a == b:\n",
        "    answer = [nums.index(a), nums.index(b,nums.index(a)+1)]\n",
        "else:\n",
        "    answer = [nums.index(a), nums.index(b)]\n",
        "print(answer)"
      ],
      "metadata": {
        "colab": {
          "base_uri": "https://localhost:8080/"
        },
        "id": "eo9KWnF7DIJ0",
        "outputId": "2c418764-6a88-44a6-dc84-a568a2e1f7a5"
      },
      "execution_count": null,
      "outputs": [
        {
          "output_type": "stream",
          "name": "stdout",
          "text": [
            "[0, 1]\n"
          ]
        }
      ]
    },
    {
      "cell_type": "code",
      "source": [
        "#final solution\n",
        "def twoSum(self, nums: List[int], target: int) -> List[int]:\n",
        "    pairLst = [[nums[x],nums[y]] for x in range(len(nums)-1) for y in range(x+1,len(nums)) if nums[x]+nums[y]==target][0]\n",
        "    a = pairLst[0]\n",
        "    b = pairLst[1]\n",
        "    if a == b:\n",
        "        anwser = [nums.index(a), nums.index(b,nums.index(a)+1)]\n",
        "    else:\n",
        "        anwser = [nums.index(a), nums.index(b)]\n",
        "    return anwser\n"
      ],
      "metadata": {
        "id": "8oUaI84lBOOb"
      },
      "execution_count": null,
      "outputs": []
    },
    {
      "cell_type": "code",
      "source": [
        " def twoSum(self, nums: List[int], target: int) -> List[int]:\n"
      ],
      "metadata": {
        "id": "hFiAOON3bTAB"
      },
      "execution_count": null,
      "outputs": []
    },
    {
      "cell_type": "code",
      "source": [
        "PairList = [[nums[x],nums[y]] for x in range(len(nums)-1) for y in range(x+1,len(nums)) if nums[x] + nums[y] == target][0]\n",
        "a = PairList[0]\n",
        "b = PairList[1]\n",
        "\n",
        "if a == b:\n",
        "  answer = [nums.index(a),nums.index(b,nums.index(a)+1)]\n",
        "else:\n",
        "  answer = [nums.index(a),nums.index(b)]\n",
        "\n",
        "  \n"
      ],
      "metadata": {
        "colab": {
          "base_uri": "https://localhost:8080/",
          "height": 204
        },
        "id": "gjJy_RoabnMy",
        "outputId": "dad60a00-d1ba-47b9-c626-6b7c6b2e2166"
      },
      "execution_count": null,
      "outputs": [
        {
          "output_type": "error",
          "ename": "TypeError",
          "evalue": "ignored",
          "traceback": [
            "\u001b[0;31m---------------------------------------------------------------------------\u001b[0m",
            "\u001b[0;31mTypeError\u001b[0m                                 Traceback (most recent call last)",
            "\u001b[0;32m<ipython-input-15-d22f39ddd4c7>\u001b[0m in \u001b[0;36m<module>\u001b[0;34m()\u001b[0m\n\u001b[1;32m      8\u001b[0m   \u001b[0manswer\u001b[0m \u001b[0;34m=\u001b[0m \u001b[0;34m[\u001b[0m\u001b[0mnums\u001b[0m\u001b[0;34m.\u001b[0m\u001b[0mindex\u001b[0m\u001b[0;34m(\u001b[0m\u001b[0ma\u001b[0m\u001b[0;34m)\u001b[0m\u001b[0;34m,\u001b[0m\u001b[0mnums\u001b[0m\u001b[0;34m.\u001b[0m\u001b[0mindex\u001b[0m\u001b[0;34m(\u001b[0m\u001b[0mb\u001b[0m\u001b[0;34m)\u001b[0m\u001b[0;34m]\u001b[0m\u001b[0;34m\u001b[0m\u001b[0;34m\u001b[0m\u001b[0m\n\u001b[1;32m      9\u001b[0m \u001b[0;34m\u001b[0m\u001b[0m\n\u001b[0;32m---> 10\u001b[0;31m   \u001b[0mprint\u001b[0m\u001b[0;34m(\u001b[0m\u001b[0mnums\u001b[0m\u001b[0;34m[\u001b[0m\u001b[0manswer\u001b[0m\u001b[0;34m]\u001b[0m\u001b[0;34m)\u001b[0m\u001b[0;34m\u001b[0m\u001b[0;34m\u001b[0m\u001b[0m\n\u001b[0m",
            "\u001b[0;31mTypeError\u001b[0m: list indices must be integers or slices, not list"
          ]
        }
      ]
    },
    {
      "cell_type": "markdown",
      "source": [
        ""
      ],
      "metadata": {
        "id": "M_aMlZuEH_gx"
      }
    }
  ]
}